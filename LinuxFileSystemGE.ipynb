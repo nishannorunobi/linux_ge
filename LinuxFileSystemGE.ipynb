{
  "nbformat": 4,
  "nbformat_minor": 0,
  "metadata": {
    "colab": {
      "provenance": [],
      "mount_file_id": "1SVD5_aizCC0eKMJnO7IsJ8_Z8kgGKYRF",
      "authorship_tag": "ABX9TyPdt4N4BrRECoYeQGCkRXpq",
      "include_colab_link": true
    },
    "kernelspec": {
      "name": "python3",
      "display_name": "Python 3"
    },
    "language_info": {
      "name": "python"
    },
    "widgets": {
      "application/vnd.jupyter.widget-state+json": {
        "b46346a3fd154b44a4037ee195128da0": {
          "model_module": "@jupyter-widgets/controls",
          "model_name": "HBoxModel",
          "model_module_version": "1.5.0",
          "state": {
            "_dom_classes": [],
            "_model_module": "@jupyter-widgets/controls",
            "_model_module_version": "1.5.0",
            "_model_name": "HBoxModel",
            "_view_count": null,
            "_view_module": "@jupyter-widgets/controls",
            "_view_module_version": "1.5.0",
            "_view_name": "HBoxView",
            "box_style": "",
            "children": [
              "IPY_MODEL_31861988736e4285b638f253848b33e5",
              "IPY_MODEL_c6888435bba84c99a88b1bb81eb731ee",
              "IPY_MODEL_f26bb0dd3d2b41879c51eb98e4dc04e7"
            ],
            "layout": "IPY_MODEL_ca00c98a17a749b99e22d480ff09ebe5"
          }
        },
        "31861988736e4285b638f253848b33e5": {
          "model_module": "@jupyter-widgets/controls",
          "model_name": "HTMLModel",
          "model_module_version": "1.5.0",
          "state": {
            "_dom_classes": [],
            "_model_module": "@jupyter-widgets/controls",
            "_model_module_version": "1.5.0",
            "_model_name": "HTMLModel",
            "_view_count": null,
            "_view_module": "@jupyter-widgets/controls",
            "_view_module_version": "1.5.0",
            "_view_name": "HTMLView",
            "description": "",
            "description_tooltip": null,
            "layout": "IPY_MODEL_00daebaa7d6a493392addd41376ca6d8",
            "placeholder": "​",
            "style": "IPY_MODEL_a024abfe66604cd68e0805c83b35d730",
            "value": "Computing transition probabilities: 100%"
          }
        },
        "c6888435bba84c99a88b1bb81eb731ee": {
          "model_module": "@jupyter-widgets/controls",
          "model_name": "FloatProgressModel",
          "model_module_version": "1.5.0",
          "state": {
            "_dom_classes": [],
            "_model_module": "@jupyter-widgets/controls",
            "_model_module_version": "1.5.0",
            "_model_name": "FloatProgressModel",
            "_view_count": null,
            "_view_module": "@jupyter-widgets/controls",
            "_view_module_version": "1.5.0",
            "_view_name": "ProgressView",
            "bar_style": "success",
            "description": "",
            "description_tooltip": null,
            "layout": "IPY_MODEL_d3f10cf6406c4e5484d34254533c3143",
            "max": 19,
            "min": 0,
            "orientation": "horizontal",
            "style": "IPY_MODEL_916e903c3c85419eb94856cf4a3c8975",
            "value": 19
          }
        },
        "f26bb0dd3d2b41879c51eb98e4dc04e7": {
          "model_module": "@jupyter-widgets/controls",
          "model_name": "HTMLModel",
          "model_module_version": "1.5.0",
          "state": {
            "_dom_classes": [],
            "_model_module": "@jupyter-widgets/controls",
            "_model_module_version": "1.5.0",
            "_model_name": "HTMLModel",
            "_view_count": null,
            "_view_module": "@jupyter-widgets/controls",
            "_view_module_version": "1.5.0",
            "_view_name": "HTMLView",
            "description": "",
            "description_tooltip": null,
            "layout": "IPY_MODEL_4975a3bd6b394583880f74af6078ad21",
            "placeholder": "​",
            "style": "IPY_MODEL_b33ab192d0cb4fe4a6c4b2980f6151ff",
            "value": " 19/19 [00:00&lt;00:00, 508.93it/s]"
          }
        },
        "ca00c98a17a749b99e22d480ff09ebe5": {
          "model_module": "@jupyter-widgets/base",
          "model_name": "LayoutModel",
          "model_module_version": "1.2.0",
          "state": {
            "_model_module": "@jupyter-widgets/base",
            "_model_module_version": "1.2.0",
            "_model_name": "LayoutModel",
            "_view_count": null,
            "_view_module": "@jupyter-widgets/base",
            "_view_module_version": "1.2.0",
            "_view_name": "LayoutView",
            "align_content": null,
            "align_items": null,
            "align_self": null,
            "border": null,
            "bottom": null,
            "display": null,
            "flex": null,
            "flex_flow": null,
            "grid_area": null,
            "grid_auto_columns": null,
            "grid_auto_flow": null,
            "grid_auto_rows": null,
            "grid_column": null,
            "grid_gap": null,
            "grid_row": null,
            "grid_template_areas": null,
            "grid_template_columns": null,
            "grid_template_rows": null,
            "height": null,
            "justify_content": null,
            "justify_items": null,
            "left": null,
            "margin": null,
            "max_height": null,
            "max_width": null,
            "min_height": null,
            "min_width": null,
            "object_fit": null,
            "object_position": null,
            "order": null,
            "overflow": null,
            "overflow_x": null,
            "overflow_y": null,
            "padding": null,
            "right": null,
            "top": null,
            "visibility": null,
            "width": null
          }
        },
        "00daebaa7d6a493392addd41376ca6d8": {
          "model_module": "@jupyter-widgets/base",
          "model_name": "LayoutModel",
          "model_module_version": "1.2.0",
          "state": {
            "_model_module": "@jupyter-widgets/base",
            "_model_module_version": "1.2.0",
            "_model_name": "LayoutModel",
            "_view_count": null,
            "_view_module": "@jupyter-widgets/base",
            "_view_module_version": "1.2.0",
            "_view_name": "LayoutView",
            "align_content": null,
            "align_items": null,
            "align_self": null,
            "border": null,
            "bottom": null,
            "display": null,
            "flex": null,
            "flex_flow": null,
            "grid_area": null,
            "grid_auto_columns": null,
            "grid_auto_flow": null,
            "grid_auto_rows": null,
            "grid_column": null,
            "grid_gap": null,
            "grid_row": null,
            "grid_template_areas": null,
            "grid_template_columns": null,
            "grid_template_rows": null,
            "height": null,
            "justify_content": null,
            "justify_items": null,
            "left": null,
            "margin": null,
            "max_height": null,
            "max_width": null,
            "min_height": null,
            "min_width": null,
            "object_fit": null,
            "object_position": null,
            "order": null,
            "overflow": null,
            "overflow_x": null,
            "overflow_y": null,
            "padding": null,
            "right": null,
            "top": null,
            "visibility": null,
            "width": null
          }
        },
        "a024abfe66604cd68e0805c83b35d730": {
          "model_module": "@jupyter-widgets/controls",
          "model_name": "DescriptionStyleModel",
          "model_module_version": "1.5.0",
          "state": {
            "_model_module": "@jupyter-widgets/controls",
            "_model_module_version": "1.5.0",
            "_model_name": "DescriptionStyleModel",
            "_view_count": null,
            "_view_module": "@jupyter-widgets/base",
            "_view_module_version": "1.2.0",
            "_view_name": "StyleView",
            "description_width": ""
          }
        },
        "d3f10cf6406c4e5484d34254533c3143": {
          "model_module": "@jupyter-widgets/base",
          "model_name": "LayoutModel",
          "model_module_version": "1.2.0",
          "state": {
            "_model_module": "@jupyter-widgets/base",
            "_model_module_version": "1.2.0",
            "_model_name": "LayoutModel",
            "_view_count": null,
            "_view_module": "@jupyter-widgets/base",
            "_view_module_version": "1.2.0",
            "_view_name": "LayoutView",
            "align_content": null,
            "align_items": null,
            "align_self": null,
            "border": null,
            "bottom": null,
            "display": null,
            "flex": null,
            "flex_flow": null,
            "grid_area": null,
            "grid_auto_columns": null,
            "grid_auto_flow": null,
            "grid_auto_rows": null,
            "grid_column": null,
            "grid_gap": null,
            "grid_row": null,
            "grid_template_areas": null,
            "grid_template_columns": null,
            "grid_template_rows": null,
            "height": null,
            "justify_content": null,
            "justify_items": null,
            "left": null,
            "margin": null,
            "max_height": null,
            "max_width": null,
            "min_height": null,
            "min_width": null,
            "object_fit": null,
            "object_position": null,
            "order": null,
            "overflow": null,
            "overflow_x": null,
            "overflow_y": null,
            "padding": null,
            "right": null,
            "top": null,
            "visibility": null,
            "width": null
          }
        },
        "916e903c3c85419eb94856cf4a3c8975": {
          "model_module": "@jupyter-widgets/controls",
          "model_name": "ProgressStyleModel",
          "model_module_version": "1.5.0",
          "state": {
            "_model_module": "@jupyter-widgets/controls",
            "_model_module_version": "1.5.0",
            "_model_name": "ProgressStyleModel",
            "_view_count": null,
            "_view_module": "@jupyter-widgets/base",
            "_view_module_version": "1.2.0",
            "_view_name": "StyleView",
            "bar_color": null,
            "description_width": ""
          }
        },
        "4975a3bd6b394583880f74af6078ad21": {
          "model_module": "@jupyter-widgets/base",
          "model_name": "LayoutModel",
          "model_module_version": "1.2.0",
          "state": {
            "_model_module": "@jupyter-widgets/base",
            "_model_module_version": "1.2.0",
            "_model_name": "LayoutModel",
            "_view_count": null,
            "_view_module": "@jupyter-widgets/base",
            "_view_module_version": "1.2.0",
            "_view_name": "LayoutView",
            "align_content": null,
            "align_items": null,
            "align_self": null,
            "border": null,
            "bottom": null,
            "display": null,
            "flex": null,
            "flex_flow": null,
            "grid_area": null,
            "grid_auto_columns": null,
            "grid_auto_flow": null,
            "grid_auto_rows": null,
            "grid_column": null,
            "grid_gap": null,
            "grid_row": null,
            "grid_template_areas": null,
            "grid_template_columns": null,
            "grid_template_rows": null,
            "height": null,
            "justify_content": null,
            "justify_items": null,
            "left": null,
            "margin": null,
            "max_height": null,
            "max_width": null,
            "min_height": null,
            "min_width": null,
            "object_fit": null,
            "object_position": null,
            "order": null,
            "overflow": null,
            "overflow_x": null,
            "overflow_y": null,
            "padding": null,
            "right": null,
            "top": null,
            "visibility": null,
            "width": null
          }
        },
        "b33ab192d0cb4fe4a6c4b2980f6151ff": {
          "model_module": "@jupyter-widgets/controls",
          "model_name": "DescriptionStyleModel",
          "model_module_version": "1.5.0",
          "state": {
            "_model_module": "@jupyter-widgets/controls",
            "_model_module_version": "1.5.0",
            "_model_name": "DescriptionStyleModel",
            "_view_count": null,
            "_view_module": "@jupyter-widgets/base",
            "_view_module_version": "1.2.0",
            "_view_name": "StyleView",
            "description_width": ""
          }
        }
      }
    }
  },
  "cells": [
    {
      "cell_type": "markdown",
      "metadata": {
        "id": "view-in-github",
        "colab_type": "text"
      },
      "source": [
        "<a href=\"https://colab.research.google.com/github/nishannorunobi/linux_ge/blob/main/LinuxFileSystemGE.ipynb\" target=\"_parent\"><img src=\"https://colab.research.google.com/assets/colab-badge.svg\" alt=\"Open In Colab\"/></a>"
      ]
    },
    {
      "cell_type": "code",
      "execution_count": 117,
      "metadata": {
        "colab": {
          "base_uri": "https://localhost:8080/"
        },
        "id": "k6iigJOE_NDj",
        "outputId": "f9340afc-ee08-4f4e-e731-e0b80ecf33f7"
      },
      "outputs": [
        {
          "output_type": "stream",
          "name": "stdout",
          "text": [
            "Hello World!\n"
          ]
        }
      ],
      "source": [
        "# prompt: print hello world in python\n",
        "\n",
        "print(\"Hello World!\")\n"
      ]
    },
    {
      "cell_type": "code",
      "source": [
        "pip install node2vec\n"
      ],
      "metadata": {
        "colab": {
          "base_uri": "https://localhost:8080/"
        },
        "id": "zWfcg-axH8TU",
        "outputId": "53ecae62-4cf6-492a-b699-153cc36aff92"
      },
      "execution_count": 118,
      "outputs": [
        {
          "output_type": "stream",
          "name": "stdout",
          "text": [
            "Requirement already satisfied: node2vec in /usr/local/lib/python3.10/dist-packages (0.4.6)\n",
            "Requirement already satisfied: gensim<5.0.0,>=4.1.2 in /usr/local/lib/python3.10/dist-packages (from node2vec) (4.3.2)\n",
            "Requirement already satisfied: joblib<2.0.0,>=1.1.0 in /usr/local/lib/python3.10/dist-packages (from node2vec) (1.4.2)\n",
            "Requirement already satisfied: networkx<3.0,>=2.5 in /usr/local/lib/python3.10/dist-packages (from node2vec) (2.8.8)\n",
            "Requirement already satisfied: numpy<2.0.0,>=1.19.5 in /usr/local/lib/python3.10/dist-packages (from node2vec) (1.25.2)\n",
            "Requirement already satisfied: tqdm<5.0.0,>=4.55.1 in /usr/local/lib/python3.10/dist-packages (from node2vec) (4.66.4)\n",
            "Requirement already satisfied: scipy>=1.7.0 in /usr/local/lib/python3.10/dist-packages (from gensim<5.0.0,>=4.1.2->node2vec) (1.11.4)\n",
            "Requirement already satisfied: smart-open>=1.8.1 in /usr/local/lib/python3.10/dist-packages (from gensim<5.0.0,>=4.1.2->node2vec) (6.4.0)\n"
          ]
        }
      ]
    },
    {
      "cell_type": "code",
      "source": [
        "pip install network"
      ],
      "metadata": {
        "colab": {
          "base_uri": "https://localhost:8080/"
        },
        "id": "onIoKwbROCi8",
        "outputId": "752b0581-a8c2-4bc6-cab7-0b0c3bea2449"
      },
      "execution_count": 119,
      "outputs": [
        {
          "output_type": "stream",
          "name": "stdout",
          "text": [
            "Requirement already satisfied: network in /usr/local/lib/python3.10/dist-packages (0.1)\n"
          ]
        }
      ]
    },
    {
      "cell_type": "code",
      "source": [
        "pip install pydot"
      ],
      "metadata": {
        "colab": {
          "base_uri": "https://localhost:8080/"
        },
        "id": "SrN8Aj4mkHsz",
        "outputId": "e0143db2-3b9d-404b-a237-8f2fc87d83c3"
      },
      "execution_count": 120,
      "outputs": [
        {
          "output_type": "stream",
          "name": "stdout",
          "text": [
            "Requirement already satisfied: pydot in /usr/local/lib/python3.10/dist-packages (1.4.2)\n",
            "Requirement already satisfied: pyparsing>=2.1.4 in /usr/local/lib/python3.10/dist-packages (from pydot) (3.1.2)\n"
          ]
        }
      ]
    },
    {
      "cell_type": "code",
      "source": [
        "import networkx as nx\n",
        "from node2vec import Node2Vec\n",
        "import matplotlib.pyplot as plt\n",
        "import pydot\n",
        "from networkx.drawing.nx_pydot import graphviz_layout\n",
        "import numpy as np"
      ],
      "metadata": {
        "id": "fjonRYnMOyYP"
      },
      "execution_count": 121,
      "outputs": []
    },
    {
      "cell_type": "code",
      "source": [
        "G = nx.Graph()"
      ],
      "metadata": {
        "id": "yYTiI5HwPG3H"
      },
      "execution_count": 122,
      "outputs": []
    },
    {
      "cell_type": "code",
      "source": [
        "edgelist = [\n",
        "    (\"/\", \"home\"),\n",
        "    (\"/\", \"bin\"),\n",
        "    (\"/\", \"lib\"),\n",
        "    (\"/\", \"boot\"),\n",
        "    (\"/\", \"var\"),\n",
        "    (\"/\", \"usr\"),\n",
        "    (\"/\", \"dev\"),\n",
        "    (\"/\", \"proc\"),\n",
        "    (\"/\", \"etc\")\n",
        "]\n",
        "\n",
        "edgelist = edgelist + [\n",
        "    (\"etc\", \"group\"),\n",
        "    (\"etc\", \"hosts\"),\n",
        "    (\"etc\", \"passwd\")\n",
        "]\n",
        "\n",
        "edgelist = edgelist + [\n",
        "    (\"home\", \"user1\"),\n",
        "    (\"home\", \"user2\"),\n",
        "    (\"home\", \"user3\")\n",
        "]\n",
        "\n",
        "edgelist = edgelist + [\n",
        "    (\"dev\", \"sda\"),\n",
        "    (\"dev\", \"hda\"),\n",
        "    (\"dev\", \"st0\")\n",
        "]\n",
        "\n",
        "G.add_edges_from(edgelist)\n",
        "#G.add_edge('home','user1')\n",
        "#G.add_edge('home','user2')"
      ],
      "metadata": {
        "id": "Rf1ncQ1SfUhv"
      },
      "execution_count": 123,
      "outputs": []
    },
    {
      "cell_type": "code",
      "source": [
        "\n",
        "#T = nx.balanced_tree(2, 5)\n",
        "\n",
        "pos = graphviz_layout(G, prog=\"dot\")\n",
        "nx.draw(G,pos, with_labels = True,node_color=['yellow'])\n",
        "\n",
        "plt.show()"
      ],
      "metadata": {
        "colab": {
          "base_uri": "https://localhost:8080/",
          "height": 516
        },
        "id": "2OroOpAnfxKV",
        "outputId": "900548e0-a25e-49ea-c03f-e7e7255a1497"
      },
      "execution_count": 124,
      "outputs": [
        {
          "output_type": "display_data",
          "data": {
            "text/plain": [
              "<Figure size 640x480 with 1 Axes>"
            ],
            "image/png": "[encoded data removed]"
          },
          "metadata": {}
        }
      ]
    },
    {
      "cell_type": "code",
      "source": [
        "node2vec = Node2Vec(G, dimensions=64, walk_length=4, num_walks=50, workers=2)\n"
      ],
      "metadata": {
        "colab": {
          "base_uri": "https://localhost:8080/",
          "height": 49,
          "referenced_widgets": [
            "b46346a3fd154b44a4037ee195128da0",
            "31861988736e4285b638f253848b33e5",
            "c6888435bba84c99a88b1bb81eb731ee",
            "f26bb0dd3d2b41879c51eb98e4dc04e7",
            "ca00c98a17a749b99e22d480ff09ebe5",
            "00daebaa7d6a493392addd41376ca6d8",
            "a024abfe66604cd68e0805c83b35d730",
            "d3f10cf6406c4e5484d34254533c3143",
            "916e903c3c85419eb94856cf4a3c8975",
            "4975a3bd6b394583880f74af6078ad21",
            "b33ab192d0cb4fe4a6c4b2980f6151ff"
          ]
        },
        "id": "AlxM4ckHm9o3",
        "outputId": "95122eff-fa26-4800-f24a-0b9334c60f28"
      },
      "execution_count": 125,
      "outputs": [
        {
          "output_type": "display_data",
          "data": {
            "text/plain": [
              "Computing transition probabilities:   0%|          | 0/19 [00:00<?, ?it/s]"
            ],
            "application/vnd.jupyter.widget-view+json": {
              "version_major": 2,
              "version_minor": 0,
              "model_id": "b46346a3fd154b44a4037ee195128da0"
            }
          },
          "metadata": {}
        }
      ]
    },
    {
      "cell_type": "code",
      "source": [
        "model = node2vec.fit(window=10, min_count=1, batch_words=4)\n",
        "embeddings = {node: model.wv[node] for node in G.nodes()}"
      ],
      "metadata": {
        "id": "9XuAL1PFnIWZ"
      },
      "execution_count": 126,
      "outputs": []
    },
    {
      "cell_type": "code",
      "source": [
        "print(\"Embedding for Node 0:\", embeddings['/'])"
      ],
      "metadata": {
        "colab": {
          "base_uri": "https://localhost:8080/"
        },
        "id": "bMUfiJrin0re",
        "outputId": "63138d15-6a4d-48b6-a873-56509168d418"
      },
      "execution_count": 127,
      "outputs": [
        {
          "output_type": "stream",
          "name": "stdout",
          "text": [
            "Embedding for Node 0: [-0.00440856  0.00117414  0.03057131  0.02548589 -0.02447741 -0.02847461\n",
            "  0.00922651  0.02541828 -0.0074576  -0.01795965  0.03560177  0.00089955\n",
            " -0.00239185  0.01233191 -0.02258756 -0.01068153 -0.00276852  0.00914762\n",
            " -0.01755909 -0.0093561   0.02365009  0.01273729  0.0349517  -0.00400234\n",
            "  0.01193587  0.01252712 -0.01525617  0.01384476 -0.02133841 -0.01519486\n",
            " -0.02100642 -0.00653487  0.00513187 -0.02651642  0.00396251  0.0011405\n",
            "  0.01196155 -0.00675411  0.02217363 -0.00842051 -0.01496297  0.01853998\n",
            " -0.02853519 -0.02740109  0.00300265 -0.00836181 -0.0181719   0.01513494\n",
            "  0.00399858  0.01637928 -0.00925879  0.01518715 -0.00754843  0.0182253\n",
            "  0.03119977 -0.00835978  0.01532161 -0.02649001 -0.0028088   0.01418331\n",
            " -0.00270418 -0.00876193 -0.01630454 -0.01786917]\n"
          ]
        }
      ]
    },
    {
      "cell_type": "code",
      "source": [
        "embedding1 = embeddings['/']\n",
        "embedding2 = embeddings['home']\n",
        "embedding3 = embeddings['sda']\n",
        "\n",
        "magnitude1 = np.linalg.norm(embedding1)\n",
        "magnitude2 = np.linalg.norm(embedding2)\n",
        "magnitude3 = np.linalg.norm(embedding3)\n",
        "\n",
        "\n",
        "close_node_prod = np.dot(embedding1, embedding2)\n",
        "remote_node_prod = np.dot(embedding1, embedding3)\n",
        "\n",
        "\n",
        "cosine_similarity_high = close_node_prod / (magnitude1 * magnitude2)\n",
        "cosine_similarity_low = remote_node_prod / (magnitude1 * magnitude3)\n",
        "\n",
        "print(\"High Cosine Similarity:\", cosine_similarity_high)\n",
        "print(\"Low Cosine Similarity:\", cosine_similarity_low)"
      ],
      "metadata": {
        "colab": {
          "base_uri": "https://localhost:8080/"
        },
        "id": "C1bwz8iHqzd2",
        "outputId": "05436f69-bcf2-4c14-bb65-9ccbe93f4972"
      },
      "execution_count": 128,
      "outputs": [
        {
          "output_type": "stream",
          "name": "stdout",
          "text": [
            "High Cosine Similarity: 0.5843842\n",
            "Low Cosine Similarity: 0.22416043\n"
          ]
        }
      ]
    }
  ]
}